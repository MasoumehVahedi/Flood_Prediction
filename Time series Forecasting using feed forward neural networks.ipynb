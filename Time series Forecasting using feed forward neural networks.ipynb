{
 "cells": [
  {
   "cell_type": "code",
   "execution_count": 2,
   "metadata": {},
   "outputs": [],
   "source": [
    "import numpy as np\n",
    "import matplotlib.pyplot as plt\n",
    "import pandas as pd\n",
    "import math\n",
    "\n",
    "from keras.models import Sequential\n",
    "from keras.layers import Dense\n",
    "from sklearn.preprocessing import MinMaxScaler\n",
    "from sklearn.metrics import mean_squared_error"
   ]
  },
  {
   "cell_type": "code",
   "execution_count": 3,
   "metadata": {},
   "outputs": [
    {
     "data": {
      "text/html": [
       "<div>\n",
       "<style scoped>\n",
       "    .dataframe tbody tr th:only-of-type {\n",
       "        vertical-align: middle;\n",
       "    }\n",
       "\n",
       "    .dataframe tbody tr th {\n",
       "        vertical-align: top;\n",
       "    }\n",
       "\n",
       "    .dataframe thead th {\n",
       "        text-align: right;\n",
       "    }\n",
       "</style>\n",
       "<table border=\"1\" class=\"dataframe\">\n",
       "  <thead>\n",
       "    <tr style=\"text-align: right;\">\n",
       "      <th></th>\n",
       "      <th>SUBDIVISION</th>\n",
       "      <th>YEAR</th>\n",
       "      <th>JAN</th>\n",
       "      <th>FEB</th>\n",
       "      <th>MAR</th>\n",
       "      <th>APR</th>\n",
       "      <th>MAY</th>\n",
       "      <th>JUN</th>\n",
       "      <th>JUL</th>\n",
       "      <th>AUG</th>\n",
       "      <th>SEP</th>\n",
       "      <th>OCT</th>\n",
       "      <th>NOV</th>\n",
       "      <th>DEC</th>\n",
       "      <th>ANNUAL</th>\n",
       "      <th>Jan-Feb</th>\n",
       "      <th>Mar-May</th>\n",
       "      <th>Jun-Sep</th>\n",
       "      <th>Oct-Dec</th>\n",
       "    </tr>\n",
       "  </thead>\n",
       "  <tbody>\n",
       "    <tr>\n",
       "      <th>0</th>\n",
       "      <td>ANDAMAN &amp; NICOBAR ISLANDS</td>\n",
       "      <td>1901</td>\n",
       "      <td>49.2</td>\n",
       "      <td>87.1</td>\n",
       "      <td>29.2</td>\n",
       "      <td>2.3</td>\n",
       "      <td>528.8</td>\n",
       "      <td>517.5</td>\n",
       "      <td>365.1</td>\n",
       "      <td>481.1</td>\n",
       "      <td>332.6</td>\n",
       "      <td>388.5</td>\n",
       "      <td>558.2</td>\n",
       "      <td>33.6</td>\n",
       "      <td>3373.2</td>\n",
       "      <td>136.3</td>\n",
       "      <td>560.3</td>\n",
       "      <td>1696.3</td>\n",
       "      <td>980.3</td>\n",
       "    </tr>\n",
       "    <tr>\n",
       "      <th>1</th>\n",
       "      <td>ANDAMAN &amp; NICOBAR ISLANDS</td>\n",
       "      <td>1902</td>\n",
       "      <td>0.0</td>\n",
       "      <td>159.8</td>\n",
       "      <td>12.2</td>\n",
       "      <td>0.0</td>\n",
       "      <td>446.1</td>\n",
       "      <td>537.1</td>\n",
       "      <td>228.9</td>\n",
       "      <td>753.7</td>\n",
       "      <td>666.2</td>\n",
       "      <td>197.2</td>\n",
       "      <td>359.0</td>\n",
       "      <td>160.5</td>\n",
       "      <td>3520.7</td>\n",
       "      <td>159.8</td>\n",
       "      <td>458.3</td>\n",
       "      <td>2185.9</td>\n",
       "      <td>716.7</td>\n",
       "    </tr>\n",
       "    <tr>\n",
       "      <th>2</th>\n",
       "      <td>ANDAMAN &amp; NICOBAR ISLANDS</td>\n",
       "      <td>1903</td>\n",
       "      <td>12.7</td>\n",
       "      <td>144.0</td>\n",
       "      <td>0.0</td>\n",
       "      <td>1.0</td>\n",
       "      <td>235.1</td>\n",
       "      <td>479.9</td>\n",
       "      <td>728.4</td>\n",
       "      <td>326.7</td>\n",
       "      <td>339.0</td>\n",
       "      <td>181.2</td>\n",
       "      <td>284.4</td>\n",
       "      <td>225.0</td>\n",
       "      <td>2957.4</td>\n",
       "      <td>156.7</td>\n",
       "      <td>236.1</td>\n",
       "      <td>1874.0</td>\n",
       "      <td>690.6</td>\n",
       "    </tr>\n",
       "    <tr>\n",
       "      <th>3</th>\n",
       "      <td>ANDAMAN &amp; NICOBAR ISLANDS</td>\n",
       "      <td>1904</td>\n",
       "      <td>9.4</td>\n",
       "      <td>14.7</td>\n",
       "      <td>0.0</td>\n",
       "      <td>202.4</td>\n",
       "      <td>304.5</td>\n",
       "      <td>495.1</td>\n",
       "      <td>502.0</td>\n",
       "      <td>160.1</td>\n",
       "      <td>820.4</td>\n",
       "      <td>222.2</td>\n",
       "      <td>308.7</td>\n",
       "      <td>40.1</td>\n",
       "      <td>3079.6</td>\n",
       "      <td>24.1</td>\n",
       "      <td>506.9</td>\n",
       "      <td>1977.6</td>\n",
       "      <td>571.0</td>\n",
       "    </tr>\n",
       "    <tr>\n",
       "      <th>4</th>\n",
       "      <td>ANDAMAN &amp; NICOBAR ISLANDS</td>\n",
       "      <td>1905</td>\n",
       "      <td>1.3</td>\n",
       "      <td>0.0</td>\n",
       "      <td>3.3</td>\n",
       "      <td>26.9</td>\n",
       "      <td>279.5</td>\n",
       "      <td>628.7</td>\n",
       "      <td>368.7</td>\n",
       "      <td>330.5</td>\n",
       "      <td>297.0</td>\n",
       "      <td>260.7</td>\n",
       "      <td>25.4</td>\n",
       "      <td>344.7</td>\n",
       "      <td>2566.7</td>\n",
       "      <td>1.3</td>\n",
       "      <td>309.7</td>\n",
       "      <td>1624.9</td>\n",
       "      <td>630.8</td>\n",
       "    </tr>\n",
       "  </tbody>\n",
       "</table>\n",
       "</div>"
      ],
      "text/plain": [
       "                 SUBDIVISION  YEAR   JAN    FEB   MAR    APR    MAY    JUN  \\\n",
       "0  ANDAMAN & NICOBAR ISLANDS  1901  49.2   87.1  29.2    2.3  528.8  517.5   \n",
       "1  ANDAMAN & NICOBAR ISLANDS  1902   0.0  159.8  12.2    0.0  446.1  537.1   \n",
       "2  ANDAMAN & NICOBAR ISLANDS  1903  12.7  144.0   0.0    1.0  235.1  479.9   \n",
       "3  ANDAMAN & NICOBAR ISLANDS  1904   9.4   14.7   0.0  202.4  304.5  495.1   \n",
       "4  ANDAMAN & NICOBAR ISLANDS  1905   1.3    0.0   3.3   26.9  279.5  628.7   \n",
       "\n",
       "     JUL    AUG    SEP    OCT    NOV    DEC  ANNUAL  Jan-Feb  Mar-May  \\\n",
       "0  365.1  481.1  332.6  388.5  558.2   33.6  3373.2    136.3    560.3   \n",
       "1  228.9  753.7  666.2  197.2  359.0  160.5  3520.7    159.8    458.3   \n",
       "2  728.4  326.7  339.0  181.2  284.4  225.0  2957.4    156.7    236.1   \n",
       "3  502.0  160.1  820.4  222.2  308.7   40.1  3079.6     24.1    506.9   \n",
       "4  368.7  330.5  297.0  260.7   25.4  344.7  2566.7      1.3    309.7   \n",
       "\n",
       "   Jun-Sep  Oct-Dec  \n",
       "0   1696.3    980.3  \n",
       "1   2185.9    716.7  \n",
       "2   1874.0    690.6  \n",
       "3   1977.6    571.0  \n",
       "4   1624.9    630.8  "
      ]
     },
     "execution_count": 3,
     "metadata": {},
     "output_type": "execute_result"
    }
   ],
   "source": [
    "path = 'D:/Datasets/flood dataset - kaggle/flood prediction/datasets_1686_3183_rainfall in india 1901-2015.csv'\n",
    "dataframe = pd.read_csv(path, na_values=['na', '--'])\n",
    "dataframe.head()"
   ]
  },
  {
   "cell_type": "code",
   "execution_count": 4,
   "metadata": {},
   "outputs": [],
   "source": [
    "# Filling NULL with mean of each values of column, because nun values will cause error in the following way\n",
    "dataframe['JAN'].fillna((dataframe['JAN'].mean()), inplace=True)\n",
    "dataframe['FEB'].fillna((dataframe['FEB'].mean()), inplace=True)\n",
    "dataframe['MAR'].fillna((dataframe['MAR'].mean()), inplace=True)\n",
    "dataframe['APR'].fillna((dataframe['APR'].mean()), inplace=True)\n",
    "dataframe['MAY'].fillna((dataframe['MAY'].mean()), inplace=True)\n",
    "dataframe['JUN'].fillna((dataframe['JUN'].mean()), inplace=True)\n",
    "dataframe['JUL'].fillna((dataframe['JUL'].mean()), inplace=True)\n",
    "dataframe['AUG'].fillna((dataframe['AUG'].mean()), inplace=True)\n",
    "dataframe['SEP'].fillna((dataframe['SEP'].mean()), inplace=True)\n",
    "dataframe['OCT'].fillna((dataframe['OCT'].mean()), inplace=True)\n",
    "dataframe['DEC'].fillna((dataframe['DEC'].mean()), inplace=True)"
   ]
  },
  {
   "cell_type": "code",
   "execution_count": 5,
   "metadata": {},
   "outputs": [
    {
     "data": {
      "text/html": [
       "<div>\n",
       "<style scoped>\n",
       "    .dataframe tbody tr th:only-of-type {\n",
       "        vertical-align: middle;\n",
       "    }\n",
       "\n",
       "    .dataframe tbody tr th {\n",
       "        vertical-align: top;\n",
       "    }\n",
       "\n",
       "    .dataframe thead th {\n",
       "        text-align: right;\n",
       "    }\n",
       "</style>\n",
       "<table border=\"1\" class=\"dataframe\">\n",
       "  <thead>\n",
       "    <tr style=\"text-align: right;\">\n",
       "      <th></th>\n",
       "      <th>Rainfall</th>\n",
       "    </tr>\n",
       "  </thead>\n",
       "  <tbody>\n",
       "    <tr>\n",
       "      <th>0</th>\n",
       "      <td>49.2</td>\n",
       "    </tr>\n",
       "    <tr>\n",
       "      <th>1</th>\n",
       "      <td>87.1</td>\n",
       "    </tr>\n",
       "    <tr>\n",
       "      <th>2</th>\n",
       "      <td>29.2</td>\n",
       "    </tr>\n",
       "    <tr>\n",
       "      <th>3</th>\n",
       "      <td>2.3</td>\n",
       "    </tr>\n",
       "    <tr>\n",
       "      <th>4</th>\n",
       "      <td>528.8</td>\n",
       "    </tr>\n",
       "  </tbody>\n",
       "</table>\n",
       "</div>"
      ],
      "text/plain": [
       "   Rainfall\n",
       "0      49.2\n",
       "1      87.1\n",
       "2      29.2\n",
       "3       2.3\n",
       "4     528.8"
      ]
     },
     "metadata": {},
     "output_type": "display_data"
    },
    {
     "data": {
      "text/plain": [
       "Rainfall    float64\n",
       "dtype: object"
      ]
     },
     "metadata": {},
     "output_type": "display_data"
    }
   ],
   "source": [
    "# Here, each month has been separated into a column with its value\n",
    "df_month = pd.DataFrame(dataframe[['JAN', 'FEB', 'MAR', 'APR', 'MAY', 'JUN', 'JUL','AUG', 'SEP', 'OCT']])\n",
    "df_month = df_month.T\n",
    "df_month = df_month.unstack(level=0)\n",
    "df_month = df_month.reset_index()\n",
    "\n",
    "# Creation of year/month in a separate column\n",
    "df_time = pd.Series(pd.period_range(start='1901', end='2016', freq='M', periods=None), dtype=str)\n",
    "df_time = df_time.reset_index()\n",
    "\n",
    "# To create a new datafarame which record the values of rainfall in the specific year and moth\n",
    "df = pd.DataFrame({'Rainfall':df_month[0]})\n",
    "display(df.head())\n",
    "display(df.dtypes)"
   ]
  },
  {
   "cell_type": "code",
   "execution_count": 6,
   "metadata": {},
   "outputs": [
    {
     "data": {
      "image/png": "[encoded data removed]",
      "text/plain": [
       "<Figure size 432x288 with 1 Axes>"
      ]
     },
     "metadata": {
      "needs_background": "light"
     },
     "output_type": "display_data"
    }
   ],
   "source": [
    "plt.plot(df)\n",
    "plt.show()"
   ]
  },
  {
   "cell_type": "code",
   "execution_count": 7,
   "metadata": {},
   "outputs": [
    {
     "data": {
      "text/plain": [
       "(41160, 1)"
      ]
     },
     "execution_count": 7,
     "metadata": {},
     "output_type": "execute_result"
    }
   ],
   "source": [
    "# Convert pandas dataframe to numpy array\n",
    "dataset = df.values\n",
    "dataset = dataset.astype('float32')\n",
    "dataset.shape"
   ]
  },
  {
   "cell_type": "code",
   "execution_count": 8,
   "metadata": {},
   "outputs": [],
   "source": [
    "#Normalize the dataset\n",
    "scaler = MinMaxScaler(feature_range=(0,1))\n",
    "dataset = scaler.fit_transform(dataset)"
   ]
  },
  {
   "cell_type": "markdown",
   "metadata": {},
   "source": [
    "Note: we cannot use random way to split training and test data as the sequence of events \n",
    "is important for time series. In this case, we take first 60% values for train and the remaining\n",
    "1/3 for testing split into train and test sets."
   ]
  },
  {
   "cell_type": "code",
   "execution_count": 9,
   "metadata": {},
   "outputs": [
    {
     "name": "stdout",
     "output_type": "stream",
     "text": [
      "27165\n",
      "13995\n"
     ]
    }
   ],
   "source": [
    "train_size = int(len(dataset) * 0.66)\n",
    "test_size = len(dataset) - train_size\n",
    "train, test = dataset[0:train_size,:], dataset[train_size:len(dataset),:]\n",
    "\n",
    "print(train_size)\n",
    "print(test_size)"
   ]
  },
  {
   "cell_type": "markdown",
   "metadata": {},
   "source": [
    "Here, it is not possible to fit the model as normally do for image processing using X and Y. In this case, we should transform the data into something that looks like X and Y values. So, it can be trained on a sequence rather than indvidual datapoints. \n",
    "Therefore we need to convert into n number of columns for X where we feed sequence of numbers\n",
    "then the final column as Y where we provide the next number in the sequence as output.\n",
    "Here, we convert an array of values into a dataset matrix\n",
    "\n",
    "seq_size is the number of previous time steps to use as \n",
    "input variables to predict the next time period.\n",
    "\n",
    "creates a dataset where X is the amount of rainfall at a given time (t, t-1, t-2...) \n",
    "and Y is the amount of rainfall at the next time (t + 1)."
   ]
  },
  {
   "cell_type": "code",
   "execution_count": 10,
   "metadata": {},
   "outputs": [],
   "source": [
    "def to_sequences(dataset, se_size):\n",
    "    x = []\n",
    "    y = []\n",
    "    \n",
    "    for i in range(len(dataset)-seq_size-1):\n",
    "        window = dataset[i:(i+seq_size), 0]\n",
    "        x.append(window)\n",
    "        y.append(dataset[i+seq_size, 0])\n",
    "        \n",
    "    return np.array(x), np.array(y)"
   ]
  },
  {
   "cell_type": "code",
   "execution_count": 12,
   "metadata": {},
   "outputs": [
    {
     "name": "stdout",
     "output_type": "stream",
     "text": [
      "Shape of training set: (27154, 10)\n",
      "Shape of test set: (13984, 10)\n"
     ]
    }
   ],
   "source": [
    "seq_size = 10    # Number of time steps to look back\n",
    "#Larger sequences may improve forecasting\n",
    "train_X, train_Y = to_sequences(train, seq_size)\n",
    "test_X, test_Y = to_sequences(test, seq_size)\n",
    "\n",
    "#Compare trainX and dataset. You can see that X= values at t, t+1 and t+2\n",
    "#whereas Y is the value that follows, t+3 (since our sequence size is 3)\n",
    "\n",
    "print(\"Shape of training set: {}\".format(train_X.shape))\n",
    "print(\"Shape of test set: {}\".format(test_X.shape))"
   ]
  },
  {
   "cell_type": "code",
   "execution_count": 13,
   "metadata": {},
   "outputs": [
    {
     "name": "stdout",
     "output_type": "stream",
     "text": [
      "Deep Model\n",
      "Model: \"sequential_1\"\n",
      "_________________________________________________________________\n",
      "Layer (type)                 Output Shape              Param #   \n",
      "=================================================================\n",
      "dense_1 (Dense)              (None, 64)                704       \n",
      "_________________________________________________________________\n",
      "dense_2 (Dense)              (None, 32)                2080      \n",
      "_________________________________________________________________\n",
      "dense_3 (Dense)              (None, 1)                 33        \n",
      "=================================================================\n",
      "Total params: 2,817\n",
      "Trainable params: 2,817\n",
      "Non-trainable params: 0\n",
      "_________________________________________________________________\n",
      "None\n"
     ]
    }
   ],
   "source": [
    "#Create Model\n",
    "print(\"Deep Model\")\n",
    "#Fit dense model\n",
    "model = Sequential()\n",
    "model.add(Dense(64, input_dim=seq_size, activation='relu'))\n",
    "model.add(Dense(32, activation='relu'))\n",
    "model.add(Dense(1))\n",
    "model.compile(loss='mean_squared_error', optimizer='adam', metrics=['acc'])\n",
    "print(model.summary())"
   ]
  },
  {
   "cell_type": "code",
   "execution_count": 14,
   "metadata": {
    "scrolled": true
   },
   "outputs": [
    {
     "name": "stdout",
     "output_type": "stream",
     "text": [
      "WARNING:tensorflow:From C:\\Users\\VHD\\anaconda3\\envs\\SI\\lib\\site-packages\\keras\\backend\\tensorflow_backend.py:422: The name tf.global_variables is deprecated. Please use tf.compat.v1.global_variables instead.\n",
      "\n",
      "Train on 27154 samples, validate on 13984 samples\n",
      "Epoch 1/100\n",
      " - 2s - loss: 0.0017 - acc: 0.0489 - val_loss: 0.0015 - val_acc: 0.0547\n",
      "Epoch 2/100\n",
      " - 2s - loss: 0.0015 - acc: 0.0489 - val_loss: 0.0016 - val_acc: 0.0547\n",
      "Epoch 3/100\n",
      " - 2s - loss: 0.0015 - acc: 0.0489 - val_loss: 0.0015 - val_acc: 0.0547\n",
      "Epoch 4/100\n",
      " - 2s - loss: 0.0015 - acc: 0.0489 - val_loss: 0.0015 - val_acc: 0.0547\n",
      "Epoch 5/100\n",
      " - 2s - loss: 0.0015 - acc: 0.0489 - val_loss: 0.0017 - val_acc: 0.0547\n",
      "Epoch 6/100\n",
      " - 2s - loss: 0.0015 - acc: 0.0489 - val_loss: 0.0015 - val_acc: 0.0547\n",
      "Epoch 7/100\n",
      " - 2s - loss: 0.0015 - acc: 0.0489 - val_loss: 0.0015 - val_acc: 0.0547\n",
      "Epoch 8/100\n",
      " - 2s - loss: 0.0015 - acc: 0.0489 - val_loss: 0.0015 - val_acc: 0.0547\n",
      "Epoch 9/100\n",
      " - 2s - loss: 0.0014 - acc: 0.0489 - val_loss: 0.0015 - val_acc: 0.0547\n",
      "Epoch 10/100\n",
      " - 2s - loss: 0.0014 - acc: 0.0489 - val_loss: 0.0015 - val_acc: 0.0547\n",
      "Epoch 11/100\n",
      " - 2s - loss: 0.0014 - acc: 0.0489 - val_loss: 0.0016 - val_acc: 0.0547\n",
      "Epoch 12/100\n",
      " - 2s - loss: 0.0014 - acc: 0.0489 - val_loss: 0.0016 - val_acc: 0.0547\n",
      "Epoch 13/100\n",
      " - 2s - loss: 0.0014 - acc: 0.0489 - val_loss: 0.0015 - val_acc: 0.0547\n",
      "Epoch 14/100\n",
      " - 2s - loss: 0.0014 - acc: 0.0489 - val_loss: 0.0014 - val_acc: 0.0547\n",
      "Epoch 15/100\n",
      " - 2s - loss: 0.0014 - acc: 0.0489 - val_loss: 0.0015 - val_acc: 0.0547\n",
      "Epoch 16/100\n",
      " - 2s - loss: 0.0014 - acc: 0.0489 - val_loss: 0.0015 - val_acc: 0.0547\n",
      "Epoch 17/100\n",
      " - 2s - loss: 0.0014 - acc: 0.0489 - val_loss: 0.0015 - val_acc: 0.0547\n",
      "Epoch 18/100\n",
      " - 2s - loss: 0.0014 - acc: 0.0489 - val_loss: 0.0015 - val_acc: 0.0547\n",
      "Epoch 19/100\n",
      " - 2s - loss: 0.0014 - acc: 0.0489 - val_loss: 0.0015 - val_acc: 0.0547\n",
      "Epoch 20/100\n",
      " - 2s - loss: 0.0014 - acc: 0.0489 - val_loss: 0.0015 - val_acc: 0.0547\n",
      "Epoch 21/100\n",
      " - 2s - loss: 0.0014 - acc: 0.0489 - val_loss: 0.0015 - val_acc: 0.0547\n",
      "Epoch 22/100\n",
      " - 2s - loss: 0.0014 - acc: 0.0489 - val_loss: 0.0015 - val_acc: 0.0547\n",
      "Epoch 23/100\n",
      " - 2s - loss: 0.0014 - acc: 0.0489 - val_loss: 0.0015 - val_acc: 0.0547\n",
      "Epoch 24/100\n",
      " - 2s - loss: 0.0014 - acc: 0.0489 - val_loss: 0.0015 - val_acc: 0.0547\n",
      "Epoch 25/100\n",
      " - 2s - loss: 0.0013 - acc: 0.0489 - val_loss: 0.0016 - val_acc: 0.0547\n",
      "Epoch 26/100\n",
      " - 2s - loss: 0.0013 - acc: 0.0489 - val_loss: 0.0016 - val_acc: 0.0547\n",
      "Epoch 27/100\n",
      " - 2s - loss: 0.0013 - acc: 0.0489 - val_loss: 0.0015 - val_acc: 0.0547\n",
      "Epoch 28/100\n",
      " - 2s - loss: 0.0013 - acc: 0.0489 - val_loss: 0.0015 - val_acc: 0.0547\n",
      "Epoch 29/100\n",
      " - 2s - loss: 0.0013 - acc: 0.0489 - val_loss: 0.0016 - val_acc: 0.0547\n",
      "Epoch 30/100\n",
      " - 2s - loss: 0.0013 - acc: 0.0489 - val_loss: 0.0015 - val_acc: 0.0547\n",
      "Epoch 31/100\n",
      " - 2s - loss: 0.0013 - acc: 0.0489 - val_loss: 0.0016 - val_acc: 0.0547\n",
      "Epoch 32/100\n",
      " - 2s - loss: 0.0013 - acc: 0.0489 - val_loss: 0.0016 - val_acc: 0.0547\n",
      "Epoch 33/100\n",
      " - 2s - loss: 0.0013 - acc: 0.0489 - val_loss: 0.0015 - val_acc: 0.0547\n",
      "Epoch 34/100\n",
      " - 2s - loss: 0.0013 - acc: 0.0489 - val_loss: 0.0016 - val_acc: 0.0547\n",
      "Epoch 35/100\n",
      " - 2s - loss: 0.0013 - acc: 0.0489 - val_loss: 0.0016 - val_acc: 0.0547\n",
      "Epoch 36/100\n",
      " - 2s - loss: 0.0013 - acc: 0.0489 - val_loss: 0.0015 - val_acc: 0.0547\n",
      "Epoch 37/100\n",
      " - 2s - loss: 0.0013 - acc: 0.0489 - val_loss: 0.0015 - val_acc: 0.0547\n",
      "Epoch 38/100\n",
      " - 2s - loss: 0.0013 - acc: 0.0489 - val_loss: 0.0016 - val_acc: 0.0547\n",
      "Epoch 39/100\n",
      " - 2s - loss: 0.0013 - acc: 0.0489 - val_loss: 0.0015 - val_acc: 0.0547\n",
      "Epoch 40/100\n",
      " - 2s - loss: 0.0013 - acc: 0.0489 - val_loss: 0.0015 - val_acc: 0.0547\n",
      "Epoch 41/100\n",
      " - 2s - loss: 0.0013 - acc: 0.0489 - val_loss: 0.0015 - val_acc: 0.0547\n",
      "Epoch 42/100\n",
      " - 2s - loss: 0.0013 - acc: 0.0489 - val_loss: 0.0016 - val_acc: 0.0547\n",
      "Epoch 43/100\n",
      " - 2s - loss: 0.0013 - acc: 0.0489 - val_loss: 0.0015 - val_acc: 0.0547\n",
      "Epoch 44/100\n",
      " - 2s - loss: 0.0013 - acc: 0.0489 - val_loss: 0.0017 - val_acc: 0.0547\n",
      "Epoch 45/100\n",
      " - 2s - loss: 0.0013 - acc: 0.0489 - val_loss: 0.0015 - val_acc: 0.0547\n",
      "Epoch 46/100\n",
      " - 2s - loss: 0.0013 - acc: 0.0489 - val_loss: 0.0016 - val_acc: 0.0547\n",
      "Epoch 47/100\n",
      " - 2s - loss: 0.0013 - acc: 0.0489 - val_loss: 0.0016 - val_acc: 0.0547\n",
      "Epoch 48/100\n",
      " - 2s - loss: 0.0013 - acc: 0.0489 - val_loss: 0.0015 - val_acc: 0.0547\n",
      "Epoch 49/100\n",
      " - 2s - loss: 0.0013 - acc: 0.0489 - val_loss: 0.0015 - val_acc: 0.0547\n",
      "Epoch 50/100\n",
      " - 2s - loss: 0.0013 - acc: 0.0489 - val_loss: 0.0016 - val_acc: 0.0547\n",
      "Epoch 51/100\n",
      " - 2s - loss: 0.0013 - acc: 0.0489 - val_loss: 0.0015 - val_acc: 0.0547\n",
      "Epoch 52/100\n",
      " - 2s - loss: 0.0013 - acc: 0.0489 - val_loss: 0.0016 - val_acc: 0.0547\n",
      "Epoch 53/100\n",
      " - 2s - loss: 0.0013 - acc: 0.0489 - val_loss: 0.0015 - val_acc: 0.0547\n",
      "Epoch 54/100\n",
      " - 2s - loss: 0.0012 - acc: 0.0489 - val_loss: 0.0015 - val_acc: 0.0547\n",
      "Epoch 55/100\n",
      " - 2s - loss: 0.0012 - acc: 0.0489 - val_loss: 0.0015 - val_acc: 0.0547\n",
      "Epoch 56/100\n",
      " - 2s - loss: 0.0012 - acc: 0.0489 - val_loss: 0.0015 - val_acc: 0.0547\n",
      "Epoch 57/100\n",
      " - 2s - loss: 0.0012 - acc: 0.0489 - val_loss: 0.0015 - val_acc: 0.0547\n",
      "Epoch 58/100\n",
      " - 2s - loss: 0.0012 - acc: 0.0489 - val_loss: 0.0015 - val_acc: 0.0547\n",
      "Epoch 59/100\n",
      " - 2s - loss: 0.0012 - acc: 0.0489 - val_loss: 0.0016 - val_acc: 0.0547\n",
      "Epoch 60/100\n",
      " - 2s - loss: 0.0012 - acc: 0.0489 - val_loss: 0.0016 - val_acc: 0.0547\n",
      "Epoch 61/100\n",
      " - 2s - loss: 0.0012 - acc: 0.0489 - val_loss: 0.0015 - val_acc: 0.0547\n",
      "Epoch 62/100\n",
      " - 2s - loss: 0.0012 - acc: 0.0489 - val_loss: 0.0015 - val_acc: 0.0547\n",
      "Epoch 63/100\n",
      " - 2s - loss: 0.0012 - acc: 0.0489 - val_loss: 0.0016 - val_acc: 0.0547\n",
      "Epoch 64/100\n",
      " - 2s - loss: 0.0012 - acc: 0.0489 - val_loss: 0.0016 - val_acc: 0.0547\n",
      "Epoch 65/100\n",
      " - 2s - loss: 0.0012 - acc: 0.0489 - val_loss: 0.0018 - val_acc: 0.0547\n",
      "Epoch 66/100\n",
      " - 2s - loss: 0.0012 - acc: 0.0489 - val_loss: 0.0016 - val_acc: 0.0547\n",
      "Epoch 67/100\n",
      " - 2s - loss: 0.0012 - acc: 0.0489 - val_loss: 0.0016 - val_acc: 0.0547\n",
      "Epoch 68/100\n",
      " - 2s - loss: 0.0012 - acc: 0.0489 - val_loss: 0.0015 - val_acc: 0.0547\n",
      "Epoch 69/100\n",
      " - 2s - loss: 0.0012 - acc: 0.0489 - val_loss: 0.0016 - val_acc: 0.0547\n",
      "Epoch 70/100\n",
      " - 2s - loss: 0.0012 - acc: 0.0489 - val_loss: 0.0016 - val_acc: 0.0547\n",
      "Epoch 71/100\n",
      " - 2s - loss: 0.0012 - acc: 0.0489 - val_loss: 0.0015 - val_acc: 0.0547\n",
      "Epoch 72/100\n",
      " - 2s - loss: 0.0012 - acc: 0.0489 - val_loss: 0.0017 - val_acc: 0.0547\n",
      "Epoch 73/100\n",
      " - 2s - loss: 0.0012 - acc: 0.0489 - val_loss: 0.0015 - val_acc: 0.0547\n",
      "Epoch 74/100\n",
      " - 2s - loss: 0.0012 - acc: 0.0489 - val_loss: 0.0015 - val_acc: 0.0547\n",
      "Epoch 75/100\n",
      " - 2s - loss: 0.0012 - acc: 0.0489 - val_loss: 0.0015 - val_acc: 0.0547\n",
      "Epoch 76/100\n",
      " - 2s - loss: 0.0012 - acc: 0.0489 - val_loss: 0.0017 - val_acc: 0.0547\n",
      "Epoch 77/100\n",
      " - 2s - loss: 0.0012 - acc: 0.0489 - val_loss: 0.0016 - val_acc: 0.0547\n",
      "Epoch 78/100\n",
      " - 2s - loss: 0.0012 - acc: 0.0489 - val_loss: 0.0016 - val_acc: 0.0547\n",
      "Epoch 79/100\n",
      " - 2s - loss: 0.0012 - acc: 0.0489 - val_loss: 0.0016 - val_acc: 0.0547\n",
      "Epoch 80/100\n",
      " - 2s - loss: 0.0012 - acc: 0.0489 - val_loss: 0.0016 - val_acc: 0.0547\n",
      "Epoch 81/100\n",
      " - 2s - loss: 0.0012 - acc: 0.0489 - val_loss: 0.0017 - val_acc: 0.0547\n",
      "Epoch 82/100\n",
      " - 2s - loss: 0.0012 - acc: 0.0489 - val_loss: 0.0016 - val_acc: 0.0547\n",
      "Epoch 83/100\n",
      " - 2s - loss: 0.0012 - acc: 0.0489 - val_loss: 0.0015 - val_acc: 0.0547\n",
      "Epoch 84/100\n",
      " - 2s - loss: 0.0012 - acc: 0.0489 - val_loss: 0.0017 - val_acc: 0.0547\n",
      "Epoch 85/100\n",
      " - 2s - loss: 0.0012 - acc: 0.0489 - val_loss: 0.0017 - val_acc: 0.0547\n",
      "Epoch 86/100\n",
      " - 2s - loss: 0.0012 - acc: 0.0489 - val_loss: 0.0016 - val_acc: 0.0547\n",
      "Epoch 87/100\n",
      " - 2s - loss: 0.0012 - acc: 0.0489 - val_loss: 0.0017 - val_acc: 0.0547\n",
      "Epoch 88/100\n",
      " - 2s - loss: 0.0012 - acc: 0.0489 - val_loss: 0.0016 - val_acc: 0.0547\n",
      "Epoch 89/100\n",
      " - 2s - loss: 0.0012 - acc: 0.0489 - val_loss: 0.0016 - val_acc: 0.0547\n",
      "Epoch 90/100\n",
      " - 2s - loss: 0.0012 - acc: 0.0489 - val_loss: 0.0017 - val_acc: 0.0547\n",
      "Epoch 91/100\n",
      " - 2s - loss: 0.0012 - acc: 0.0489 - val_loss: 0.0016 - val_acc: 0.0547\n",
      "Epoch 92/100\n",
      " - 2s - loss: 0.0012 - acc: 0.0489 - val_loss: 0.0016 - val_acc: 0.0547\n",
      "Epoch 93/100\n",
      " - 2s - loss: 0.0012 - acc: 0.0489 - val_loss: 0.0016 - val_acc: 0.0547\n",
      "Epoch 94/100\n",
      " - 2s - loss: 0.0012 - acc: 0.0489 - val_loss: 0.0015 - val_acc: 0.0547\n"
     ]
    },
    {
     "name": "stdout",
     "output_type": "stream",
     "text": [
      "Epoch 95/100\n",
      " - 2s - loss: 0.0012 - acc: 0.0489 - val_loss: 0.0017 - val_acc: 0.0547\n",
      "Epoch 96/100\n",
      " - 2s - loss: 0.0012 - acc: 0.0489 - val_loss: 0.0016 - val_acc: 0.0547\n",
      "Epoch 97/100\n",
      " - 2s - loss: 0.0012 - acc: 0.0489 - val_loss: 0.0015 - val_acc: 0.0547\n",
      "Epoch 98/100\n",
      " - 2s - loss: 0.0012 - acc: 0.0489 - val_loss: 0.0016 - val_acc: 0.0547\n",
      "Epoch 99/100\n",
      " - 2s - loss: 0.0012 - acc: 0.0489 - val_loss: 0.0016 - val_acc: 0.0547\n",
      "Epoch 100/100\n",
      " - 2s - loss: 0.0012 - acc: 0.0489 - val_loss: 0.0017 - val_acc: 0.0547\n"
     ]
    },
    {
     "data": {
      "text/plain": [
       "<keras.callbacks.callbacks.History at 0x21dc5b08>"
      ]
     },
     "execution_count": 14,
     "metadata": {},
     "output_type": "execute_result"
    }
   ],
   "source": [
    "model.fit(train_X, train_Y, validation_data=(test_X, test_Y), verbose= 2, epochs = 100)"
   ]
  },
  {
   "cell_type": "code",
   "execution_count": 15,
   "metadata": {},
   "outputs": [
    {
     "name": "stdout",
     "output_type": "stream",
     "text": [
      "[[-2.4616878]\n",
      " [39.587326 ]\n",
      " [72.50304  ]\n",
      " ...\n",
      " [17.740303 ]\n",
      " [16.35677  ]\n",
      " [21.934618 ]]\n",
      "[[  0.         159.80000272  12.20000003 ...   0.20000001   5.40000019\n",
      "    6.69999955]]\n"
     ]
    }
   ],
   "source": [
    "#Make prediction\n",
    "predict_train = model.predict(train_X)\n",
    "predict_test = model.predict(test_X)\n",
    "\n",
    "# Estimate model performance\n",
    "#SInce we used minmaxscaler we can now use scaler.inverse_transform\n",
    "#to invert the transformation.\n",
    "\n",
    "predict_train = scaler.inverse_transform(predict_train)\n",
    "trainY_inverse = scaler.inverse_transform([train_Y])\n",
    "predict_test = scaler.inverse_transform(predict_test)\n",
    "testY_inverse = scaler.inverse_transform([test_Y])\n",
    "\n",
    "print(predict_train)\n",
    "print(trainY_inverse)"
   ]
  },
  {
   "cell_type": "code",
   "execution_count": 16,
   "metadata": {},
   "outputs": [
    {
     "name": "stdout",
     "output_type": "stream",
     "text": [
      "Train score: 80.30 RMSE\n",
      "Test score: 97.88 RMSE\n"
     ]
    }
   ],
   "source": [
    "# calculate root mean squared error\n",
    "trainScore = math.sqrt(mean_squared_error(trainY_inverse[0], predict_train[:,0]))\n",
    "print(\"Train score: %.2f RMSE\" % (trainScore))\n",
    "\n",
    "testScore = math.sqrt(mean_squared_error(testY_inverse[0], predict_test[:,0]))\n",
    "print(\"Test score: %.2f RMSE\" % (testScore))"
   ]
  },
  {
   "cell_type": "code",
   "execution_count": 17,
   "metadata": {},
   "outputs": [],
   "source": [
    "# shift train predictions for plotting\n",
    "#we must shift the predictions so that they align on the x-axis with the original dataset. \n",
    "predict_train_plot = np.empty_like(dataset)\n",
    "predict_train_plot[:,:] = np.nan\n",
    "predict_train_plot[seq_size:len(predict_train)+seq_size, :] = predict_train\n",
    "\n",
    "# shift test predictions for plotting\n",
    "predict_test_plot = np.empty_like(dataset)\n",
    "predict_test_plot[:,:] = np.nan\n",
    "predict_test_plot[len(predict_train)+(seq_size*2)+1:len(dataset)-1, :] = predict_test"
   ]
  },
  {
   "cell_type": "code",
   "execution_count": 18,
   "metadata": {},
   "outputs": [
    {
     "data": {
      "image/png": "[encoded data removed]",
      "text/plain": [
       "<Figure size 432x288 with 1 Axes>"
      ]
     },
     "metadata": {
      "needs_background": "light"
     },
     "output_type": "display_data"
    }
   ],
   "source": [
    "# plot baseline and predictions\n",
    "plt.plot(scaler.inverse_transform(dataset))\n",
    "plt.plot(predict_train_plot)\n",
    "plt.plot(predict_test_plot)\n",
    "plt.show()"
   ]
  },
  {
   "cell_type": "code",
   "execution_count": null,
   "metadata": {},
   "outputs": [],
   "source": []
  }
 ],
 "metadata": {
  "kernelspec": {
   "display_name": "Python 3",
   "language": "python",
   "name": "python3"
  },
  "language_info": {
   "codemirror_mode": {
    "name": "ipython",
    "version": 3
   },
   "file_extension": ".py",
   "mimetype": "text/x-python",
   "name": "python",
   "nbconvert_exporter": "python",
   "pygments_lexer": "ipython3",
   "version": "3.7.9"
  }
 },
 "nbformat": 4,
 "nbformat_minor": 4
}
